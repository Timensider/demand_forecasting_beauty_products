{
 "cells": [
  {
   "cell_type": "markdown",
   "id": "1ee956b0-b527-43b3-a939-fc15518f9c2a",
   "metadata": {},
   "source": [
    "# Model Deployment & Prediction Pipeline"
   ]
  },
  {
   "cell_type": "markdown",
   "id": "c0b1293a-cd1a-4e7d-9ae1-21bba2dd97d6",
   "metadata": {},
   "source": [
    "### Introduction\n",
    "This notebook wraps up the demand forecasting pipeline by turning our best-performing trained model into deployable assets. The LightGBM model and feature columns are already saved — now, we build real-world inference functions and simulate usage.   "
   ]
  },
  {
   "cell_type": "markdown",
   "id": "969cfce0-35ac-408c-a0b2-3866ca13b584",
   "metadata": {
    "jp-MarkdownHeadingCollapsed": true
   },
   "source": [
    "### Project Goals\n",
    "• Load best-performing LightGBM model  \n",
    "• Create scalable, modular prediction function  \n",
    "• Load feature columns for consistent prediction inputs  \n",
    "• Modularize logic for reproducibility and future expansion    "
   ]
  },
  {
   "cell_type": "markdown",
   "id": "86acbdea-9f05-4f43-afc8-33cf48a5906d",
   "metadata": {},
   "source": [
    "### Importing Python Modules"
   ]
  },
  {
   "cell_type": "code",
   "execution_count": 1,
   "id": "74df09ab-e8bd-4205-b4e0-9b1d5a1465e3",
   "metadata": {},
   "outputs": [],
   "source": [
    "# Core packages\n",
    "import numpy as np\n",
    "import pandas as pd\n",
    "\n",
    "# Model loading/saving\n",
    "import joblib\n",
    "\n",
    "# Evaluation\n",
    "from sklearn.metrics import mean_squared_error, mean_absolute_error, r2_score\n",
    "\n",
    "# Plotting\n",
    "import matplotlib.pyplot as plt\n",
    "\n",
    "# Suppress Warnings for Clean Output\n",
    "import warnings\n",
    "warnings.filterwarnings(\"ignore\", category=UserWarning)"
   ]
  },
  {
   "cell_type": "markdown",
   "id": "9e825c67-65d1-42ba-95c9-1aad4712cb0b",
   "metadata": {},
   "source": [
    "### Inference Function"
   ]
  },
  {
   "cell_type": "code",
   "execution_count": 2,
   "id": "6e94432c-cb3a-4c73-bf27-507bafd7b32a",
   "metadata": {},
   "outputs": [],
   "source": [
    "#Quick Predict Function (Testing / Exploration)\n",
    "\n",
    "def predict_lgb(input_df: pd.DataFrame, feature_columns: list, model) -> np.ndarray:\n",
    "    \"\"\"\n",
    "    Predict Units_Sold using a LightGBM model for a given input DataFrame.\n",
    "\n",
    "    Args:\n",
    "        input_df (pd.DataFrame): New data\n",
    "        feature_columns (list): Features used in model training\n",
    "        model: Loaded LightGBM model object\n",
    "\n",
    "    Returns:\n",
    "        np.ndarray: Predicted Units_Sold values\n",
    "    \"\"\"\n",
    "    missing_cols = set(feature_columns) - set(input_df.columns)\n",
    "    if missing_cols:\n",
    "        raise ValueError(f\"Missing columns in input data: {missing_cols}\")\n",
    "\n",
    "    X = input_df[feature_columns].copy()\n",
    "    preds_log = model.predict(X)\n",
    "    preds_actual = np.expm1(preds_log)\n",
    "    return preds_actual"
   ]
  },
  {
   "cell_type": "markdown",
   "id": "8f9effe4-ab96-4ce2-a08b-b72a1a78c5ee",
   "metadata": {},
   "source": [
    "### Validation on New Inputs"
   ]
  },
  {
   "cell_type": "code",
   "execution_count": 3,
   "id": "248720a8-4bf6-45ec-a96f-6ea29570ae0e",
   "metadata": {},
   "outputs": [
    {
     "name": "stdout",
     "output_type": "stream",
     "text": [
      "[74.85999584 67.42318876 64.77749185 78.45253508 99.88417163]\n"
     ]
    }
   ],
   "source": [
    "# Load saved LightGBM model and feature columns\n",
    "lgb_model = joblib.load(\"../models/lgb_comb_model.pkl\")\n",
    "with open(\"../models/lgb_comb_features.json\", \"r\") as f:\n",
    "    feature_columns_lgb = json.load(f)\n",
    "  \n",
    "# Load test data\n",
    "test_lgb = pd.read_parquet(\"../data/X_test_lgb_comb.parquet\")\n",
    "\n",
    "# Predict on sample input\n",
    "sample_preds = predict_lgb(test_lgb, feature_columns_lgb, lgb_model)\n",
    "\n",
    "print(sample_preds[:5])"
   ]
  },
  {
   "cell_type": "markdown",
   "id": "4f2853fe-dcb9-43ce-a232-fffc183df4a5",
   "metadata": {},
   "source": [
    "### Modularization and Structure"
   ]
  },
  {
   "cell_type": "code",
   "execution_count": 4,
   "id": "efe77098-07b4-4990-a572-b0902b521d8c",
   "metadata": {},
   "outputs": [],
   "source": [
    "# Full Modularized Predict Function\n",
    "\n",
    "def predict_lgb_from_dataframe(df: pd.DataFrame, feature_cols_lgb: list, model_path: str) -> np.ndarray:\n",
    "    \"\"\"\n",
    "    Modularized prediction function for loading model, selecting features, and predicting Units_Sold.\n",
    "\n",
    "    Args:\n",
    "        df (pd.DataFrame): Input data\n",
    "        feature_cols_lgb (list): Trained feature list\n",
    "        model_path (str): Path to LightGBM model (.pkl)\n",
    "\n",
    "    Returns:\n",
    "        np.ndarray: Predicted Units_Sold\n",
    "    \"\"\"\n",
    "    model = joblib.load(model_path)\n",
    "\n",
    "    missing_cols = set(feature_cols_lgb) - set(df.columns)\n",
    "    if missing_cols:\n",
    "        raise ValueError(f\"Missing columns in input data: {missing_cols}\")\n",
    "\n",
    "    X = df[feature_cols_lgb].copy()\n",
    "    preds_log = model.predict(X)\n",
    "    preds_actual = np.expm1(preds_log)\n",
    "    return preds_actual"
   ]
  },
  {
   "cell_type": "code",
   "execution_count": 5,
   "id": "a5a4e321-a9dc-4363-909c-a58065365f79",
   "metadata": {},
   "outputs": [
    {
     "name": "stdout",
     "output_type": "stream",
     "text": [
      "[74.85999584 67.42318876 64.77749185 78.45253508 99.88417163]\n"
     ]
    }
   ],
   "source": [
    "# Example modularized usage\n",
    "preds_lgb = predict_lgb_from_dataframe(\n",
    "    df=test_lgb,\n",
    "    feature_cols_lgb=feature_columns_lgb,\n",
    "    model_path=\"../models/lgb_comb_model.pkl\"\n",
    ")\n",
    "# Output preview\n",
    "print(preds_lgb[:5])"
   ]
  },
  {
   "cell_type": "markdown",
   "id": "eb180975-c2d3-49b3-99da-737a9fa808bc",
   "metadata": {},
   "source": [
    "### Final Integration: Loading Production-Ready Prediction Functions"
   ]
  },
  {
   "cell_type": "code",
   "execution_count": 6,
   "id": "5a97fa75-6b35-4031-8212-c29eb75837fe",
   "metadata": {},
   "outputs": [
    {
     "name": "stdout",
     "output_type": "stream",
     "text": [
      "[74.85999584 67.42318876 64.77749185 78.45253508 99.88417163]\n"
     ]
    }
   ],
   "source": [
    "# 1. Adding project path to sys\n",
    "import sys\n",
    "import os\n",
    "import json\n",
    "import joblib\n",
    "import pandas as pd\n",
    "\n",
    "current_dir = os.getcwd()\n",
    "project_root = os.path.abspath(os.path.join(current_dir, \"..\"))\n",
    "if project_root not in sys.path:\n",
    "    sys.path.insert(0, project_root)\n",
    "\n",
    "# 2. Import production module\n",
    "from pipeline.predict import predict_lgb_from_dataframe\n",
    "\n",
    "# 3. Load assets\n",
    "model_path = \"../models/lgb_comb_model.pkl\"\n",
    "feature_path = \"../models/lgb_comb_features.json\"\n",
    "data_path = \"../data/X_test_lgb_comb.parquet\" \n",
    "\n",
    "lgb_model = joblib.load(model_path)\n",
    "with open(feature_path, \"r\") as f:\n",
    "    feature_columns_lgb = json.load(f)\n",
    "\n",
    "# 4. Load production data\n",
    "df_production = pd.read_parquet(\"../data/X_test_lgb_comb.parquet\")\n",
    "\n",
    "# 5. Predict\n",
    "production_preds = predict_lgb_from_dataframe(\n",
    "    df=df_production,\n",
    "    feature_cols_lgb=feature_columns_lgb,\n",
    "    model_path=model_path\n",
    ")\n",
    "\n",
    "# Optional: preview predictions\n",
    "print(production_preds[:5])"
   ]
  },
  {
   "cell_type": "markdown",
   "id": "8fd683b0-488c-4716-9913-13942d62799b",
   "metadata": {},
   "source": [
    "#### Author  \n",
    "*Eszter Varga – Data Scientist*  \n",
    "*GitHub: Timensider*  "
   ]
  },
  {
   "cell_type": "markdown",
   "id": "d5db273f-7f91-482a-874a-632e34800f8b",
   "metadata": {},
   "source": [
    "*I worked through this project independently, collaborating with AI tools and documentation along the way — just as I would in a real-world workflow.*"
   ]
  }
 ],
 "metadata": {
  "kernelspec": {
   "display_name": "Python 3 (ipykernel)",
   "language": "python",
   "name": "python3"
  },
  "language_info": {
   "codemirror_mode": {
    "name": "ipython",
    "version": 3
   },
   "file_extension": ".py",
   "mimetype": "text/x-python",
   "name": "python",
   "nbconvert_exporter": "python",
   "pygments_lexer": "ipython3",
   "version": "3.12.3"
  }
 },
 "nbformat": 4,
 "nbformat_minor": 5
}
